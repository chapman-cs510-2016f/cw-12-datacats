{
 "cells": [
  {
   "cell_type": "markdown",
   "metadata": {
    "collapsed": false
   },
   "source": [
    "# CW11: Structs\n",
    "In a Jupyter notebook Structs.ipynb, explain how this code differs from the equivalent C implementation that you examined in a previous class. Be specific and detailed.\n",
    "\n",
    "Explain what a #define guard does, and why it could be useful\n",
    "The #define guard makes sure that the header file is not repeated by the preprocessor. This would be useful because it avoids the problem of including something more than once, which would cause a compilation error. #Define guard uses #ifndef to terminate at the end of the header file. Now if the header file is accidently called twice, no compilation error occurs. This ensures that the header file is only read one time during compilation. \n",
    "\n",
    "Explain what type overloading is, and why it could be useful\n",
    "Function overloading allows the same name to be used for different types. This makes things less complicated for the user to code as for example if a user codes two different structs and declares a print function for both of the structs with the same name but different types, then when declaring the print function he doesn't have to specify types or worry about which print function belongs to which struct. This makes coding more efficient and organized. \n",
    "\n",
    "Explain the difference between “pass by reference” in C and “pass by reference” in C++.\n",
    "In C, when you write *wp, wp is a pointer (memory address) so that its fields will be accessed by *wp.x or wp=>x. In C++, wp is a explicit reference so the fileds are accessed by wp.x as a pass by value. However, the original memory location is changed. \n",
    "\n",
    "Explain what operator type overloading is, and why it could be useful\n",
    "Operator overloading is essentially redefining the operator and what it does. This could be useful because it allows us to manipulate structs the way we want it to be. \n",
    "\n",
    "Finish implementing the needed functions, and make sure your code compiles and runs. Explain the output carefully:\n",
    "The first step is we create 2 vec3 variables called v and v prime. We set vprime using the set_vec function, that takes in our first vector v as a paramater. The function makes a copy of v to implement its functionality and returns the copied v to v prime. This sets our v prime vector to the new value but keeps v to its original value, and the output displays this. \n",
    "The next step is creating a vec2 variable called w, and use it's set_vec function, which takes in w as a parameter, to give it values. Vec2's set_vec() will alter the passed in vector parameter and set it new values. This is once again reflected in the output. \n",
    "The final step and output was our implemented operator+ functions for both vec3 and vec2 variables, which the output correctly displays the addition of our structs; meaning, our implementation for the operator+ functions are correct. \n"
   ]
  }
 ],
 "metadata": {
  "kernelspec": {
   "display_name": "Python 2 (SageMath)",
   "language": "python",
   "name": "python2"
  },
  "language_info": {
   "codemirror_mode": {
    "name": "ipython",
    "version": 2
   },
   "file_extension": ".py",
   "mimetype": "text/x-python",
   "name": "python",
   "nbconvert_exporter": "python",
   "pygments_lexer": "ipython2",
   "version": "2.7.10"
  }
 },
 "nbformat": 4,
 "nbformat_minor": 0
}
