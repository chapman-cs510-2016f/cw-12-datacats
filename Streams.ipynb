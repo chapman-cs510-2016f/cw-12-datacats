{
 "cells": [
  {
   "cell_type": "markdown",
   "metadata": {
    "collapsed": false
   },
   "source": [
    "# CW-12: Streams \n",
    "**In a Jupyter notebook Streams.ipynb, explain the key differences that you see in the file between C++ and C:**\n",
    "In C Makefiles, the object file is removed in the clean method. In the C++ Makefiles, object files are not created. Also, insted of .c and .h files C++ uses .cpp files and .hpp files. \n",
    "\n",
    "**Describe the concept of a namespace, and what :: means.**\n",
    "C++ uses namespace in order to organize symbols into groups. For example, when you're trying to output in C++, you have to write std::cout. What this does is it takes the cout command from the standard library. When we say using namespace std; (namespace is a method of declaring a C++ library) what this does is it's telling the program to use that specific library. So now, when cout is used we no longer need to say std::. \n",
    "\n",
    "**Describe how streams do things differently. In particular, explain the differences in reading from command line arguments, reading and writing to a file, printing to standard output, and printing to standard error.**\n",
    "The concept of a stream is it allows you to send or receive an unknown number of bytes/info. The stream operator << converts types. \n",
    "In C, when you're outputing a variable, you have to specifiy what type of variable is being printed using placeholders such as %d, %s, %llu, etc. However, in C++, you break up your output with the string operator and that is what converts the variable for you and then passes it to the cout. \n",
    "Reading from command line arguments within C and C++ is very similar; both take in int argc which is the count of commandline arguments. However, in C char** is an array of arrrays of characters and in C++ char** is a pointer to an array of char pointers. \n",
    "In C when you want to use a file, a file pointer is needed everytime and it is needed to communicate between the file and the program. In C++ it uses stream to and then it uses the stream indicators to interact.\n",
    "For printing to a standard error, in C you use the function fprintf in order to print to stderr and in C++ you use cerr which uses streams to print to stderr. \n",
    "\n",
    "**Explain how a C++ string differs from a C string.**\n",
    "C strings are arrays of characters. For C strings you need to declare the size upon declaration of the string variable. In C to declare a variable you write char and then write the name followed by the size. This is because within C there is no string variable. The last character of the array is a \\0 which indicates the end of the string. \n",
    "C++ strings you write string and then write the name. The initial size does not need to be declared. Strings can be used with stream operators for commands such as cin and cout. \n",
    "\n",
    "_Compile and run the code, and make sure you understand the output._ "
   ]
  }
 ],
 "metadata": {
  "kernelspec": {
   "display_name": "Python 2 (SageMath)",
   "language": "python",
   "name": "python2"
  },
  "language_info": {
   "codemirror_mode": {
    "name": "ipython",
    "version": 2
   },
   "file_extension": ".py",
   "mimetype": "text/x-python",
   "name": "python",
   "nbconvert_exporter": "python",
   "pygments_lexer": "ipython2",
   "version": "2.7.10"
  }
 },
 "nbformat": 4,
 "nbformat_minor": 0
}
