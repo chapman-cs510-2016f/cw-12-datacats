{
 "cells": [
  {
   "cell_type": "markdown",
   "metadata": {
    "collapsed": false
   },
   "source": [
    "# CW 11: Stack\n",
    "\n",
    "In a Jupyter notebook Stack.ipynb, describe how the Stack type is defined and how it works in detail. Explain in particular the differences between this implementation and the C implementation that you have already coded.\n",
    "\n",
    "Explain the difference between a class and a struct\n",
    "\n",
    "Explain what private and public do\n",
    "\n",
    "Explain what size_t is used for\n",
    "\n",
    "Explain why this code avoids the use of C pointers\n",
    "\n",
    "Explain what new and delete do in C++, and how they relate to what you have done in C\n",
    "\n",
    "Explain what a memory leak is, and what you should do to avoid it\n",
    "\n",
    "Explain what a unique_ptr is and how it relates to both new and C pointers\n",
    "\n",
    "Explain what a list initializer does\n",
    "\n",
    "Explain what the “Rule of Zero” is, and how it relates to the “Rule of Three”\n",
    "\n",
    "\n",
    "Finish implementing the missing functions in a sensible way. Be sure to fix the bug so that the depth field is used properly.\n",
    "\n",
    "Make sure that test_struct in the test/ folder compiles and runs correctly after you are finished implementing Struct.\n",
    "\n",
    "Use valgrind to verify that you have no memory leaks in your working program. (You will have to edit the primary Makefile to change the CXXFLAGS to enable -g for debugging.)\n",
    "\n",
    "Fix the code so that it throws an exception properly if one tries to pop an empty stack.\n",
    "\n",
    "Fix the code so that depth cannot increase beyond the numerical limit for size_t. Create a new method bool full() that checks if your Stack is full. Throw an exception properly if you try to push an item onto a full stack."
   ]
  }
 ],
 "metadata": {
  "kernelspec": {
   "display_name": "Python 2 (SageMath)",
   "language": "python",
   "name": "python2"
  },
  "language_info": {
   "codemirror_mode": {
    "name": "ipython",
    "version": 2
   },
   "file_extension": ".py",
   "mimetype": "text/x-python",
   "name": "python",
   "nbconvert_exporter": "python",
   "pygments_lexer": "ipython2",
   "version": "2.7.10"
  }
 },
 "nbformat": 4,
 "nbformat_minor": 0
}
